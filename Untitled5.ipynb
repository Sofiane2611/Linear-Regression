{
  "nbformat": 4,
  "nbformat_minor": 0,
  "metadata": {
    "colab": {
      "name": "Untitled5.ipynb",
      "provenance": []
    },
    "kernelspec": {
      "name": "python3",
      "display_name": "Python 3"
    }
  },
  "cells": [
    {
      "cell_type": "code",
      "metadata": {
        "id": "zsCggcWTmhgc"
      },
      "source": [
        "import pandas as pd\r\n",
        "import numpy as np\r\n",
        "import matplotlib.pyplot as plt\r\n",
        "import seaborn as sns\r\n",
        "\r\n",
        "KC=pd.read_csv(\"kc_house_data.csv\")\r\n",
        "KC"
      ],
      "execution_count": null,
      "outputs": []
    },
    {
      "cell_type": "code",
      "metadata": {
        "id": "i9sD33mcn0bG"
      },
      "source": [
        "KC.info()\r\n",
        "KC.isnull().sum()"
      ],
      "execution_count": null,
      "outputs": []
    },
    {
      "cell_type": "code",
      "metadata": {
        "id": "R2JSxJSon6aE"
      },
      "source": [
        "#iterate through the columns to see the frequency of different values\r\n",
        "for i in KC.columns:\r\n",
        "    print(KC[i].value_counts())"
      ],
      "execution_count": null,
      "outputs": []
    },
    {
      "cell_type": "code",
      "metadata": {
        "id": "xRxWhdUwn_7D"
      },
      "source": [
        "stats = KC.describe()\r\n",
        "stats=stats.transpose()\r\n",
        "pd.DataFrame(stats)"
      ],
      "execution_count": null,
      "outputs": []
    },
    {
      "cell_type": "code",
      "metadata": {
        "id": "81yl1JT3oEA7"
      },
      "source": [
        "plt.figure(figsize=(20, 12))\r\n",
        "sns.heatmap(KC.corr(), annot=True, cmap='RdBu')\r\n",
        "plt.title(\"Correlation kc_house\")"
      ],
      "execution_count": null,
      "outputs": []
    },
    {
      "cell_type": "code",
      "metadata": {
        "id": "IuKmNKNwoH9A"
      },
      "source": [
        "fig=plt.figure(figsize=(25,15)) \r\n",
        "\r\n",
        "plt.subplot2grid ((2,3),(0,0))\r\n",
        "KC.corr().sort_values('sqft_living').drop('sqft_living')['sqft_living'].plot(kind='bar', title='Correlation with house sqft living space')\r\n",
        "                 \r\n",
        "plt.subplot2grid ((2,3),(0,1))\r\n",
        "KC.corr().sort_values('price').drop('price')['price'].plot(kind='bar', title='Correlation with house prices')"
      ],
      "execution_count": null,
      "outputs": []
    },
    {
      "cell_type": "code",
      "metadata": {
        "id": "DMPjjHjHoNVl"
      },
      "source": [
        "\r\n",
        "fig=plt.figure(figsize=(30,20))   \r\n",
        "plt.subplot2grid ((2,3),(0,0))\r\n",
        "sns.scatterplot(x='sqft_living', y='price', data=KC).set(xlabel='Sqft Living Space', ylabel='Price of the house')\r\n",
        "\r\n",
        "plt.subplot2grid ((2,3),(0,1))\r\n",
        "sns.scatterplot(x='grade', y='price', data=KC).set(xlabel='grade', ylabel='Price of the house')\r\n",
        "\r\n",
        "plt.subplot2grid ((2,3),(1,0),colspan=1) \r\n",
        "sns.scatterplot(x='sqft_above', y='price', data=KC).set(xlabel='sqft_above', ylabel='Price of the house')\r\n",
        "\r\n",
        "plt.subplot2grid ((2,3),(1,1),colspan=1) \r\n",
        "sns.scatterplot(x='sqft_living15', y='price', data=KC).set(xlabel='sqft_living15', ylabel='Price of the house')"
      ],
      "execution_count": null,
      "outputs": []
    },
    {
      "cell_type": "code",
      "metadata": {
        "id": "Dr63L_-poQdA"
      },
      "source": [
        "fig=plt.figure(figsize=(30,15))   \r\n",
        "\r\n",
        "plt.subplot2grid ((2,3),(0,0))\r\n",
        "sns.boxplot(x='bedrooms', y='price', data=KC).set(xlabel='Number of Bedrooms', ylabel='Price', title='Comparison of House price and number of bedrooms')\r\n",
        "\r\n",
        "plt.subplot2grid ((2,3),(0,1))\r\n",
        "sns.boxplot(x='floors', y='price', data=KC).set(xlabel='Number of floors', ylabel='Price', title='Comparison of House price and number of floors')\r\n",
        "\r\n",
        "plt.subplot2grid ((2,3),(1,0),colspan=1) \r\n",
        "sns.boxplot(x='view', y='price', data=KC).set(xlabel='Number of views', ylabel='Price', title='Comparison of House price and number of views')"
      ],
      "execution_count": null,
      "outputs": []
    },
    {
      "cell_type": "code",
      "metadata": {
        "id": "9Gzc1OyloVS0"
      },
      "source": [
        "plt.figure(figsize=(8, 7))\r\n",
        "sns.countplot(x='bedrooms', data=KC).set(ylabel='Count', title='Number of different houses depending on bedrooms', xlabel='Number of bedrooms')"
      ],
      "execution_count": null,
      "outputs": []
    },
    {
      "cell_type": "code",
      "metadata": {
        "id": "PV-0AXQnoYlm"
      },
      "source": [
        "fig=plt.figure(figsize=(25,15)) \r\n",
        "\r\n",
        "plt.subplot2grid ((2,3),(0,0))\r\n",
        "sns.boxplot(x='waterfront', y='price', data=KC).set(xlabel='', ylabel='Price', title='Comparison of prices for houses having a waterfront or not',\r\n",
        "                                                        xticklabels=['Do not have waterfront', 'Have waterfront'])\r\n",
        "\r\n",
        "plt.subplot2grid ((2,3),(0,1))\r\n",
        "sns.countplot(x='waterfront', data=KC).set(xlabel='', ylabel='Number of house', title='Number of waterfront and non waterfront houses',\r\n",
        "                                             xticklabels=['Do not have waterfront', 'Have waterfront'])"
      ],
      "execution_count": null,
      "outputs": []
    },
    {
      "cell_type": "code",
      "metadata": {
        "id": "WSKqUyExodEj"
      },
      "source": [
        "plt.figure(figsize=(10, 8))\r\n",
        "sns.scatterplot(x='long', y='lat', data=KC, hue='price', palette='cividis', alpha=0.15)"
      ],
      "execution_count": null,
      "outputs": []
    },
    {
      "cell_type": "code",
      "metadata": {
        "id": "27luXOqmohTw"
      },
      "source": [
        "print('Percentage of houses priced below 3 million USD: ', len(KC[KC['price'] < 3000000]) / len(KC) * 100)\r\n",
        "print('Percentage of houses priced below 2.5 million USD: ', len(KC[KC['price'] < 2500000]) / len(KC) * 100)\r\n",
        "print('Percentage of houses priced below 2 million USD: ', len(KC[KC['price'] < 2000000]) / len(KC) * 100)\r\n",
        "print('Percentage of houses priced below 1.5 million USD: ', len(KC[KC['price'] < 1500000]) / len(KC) * 100)"
      ],
      "execution_count": null,
      "outputs": []
    },
    {
      "cell_type": "code",
      "metadata": {
        "id": "HuRpluFioknI"
      },
      "source": [
        "\r\n",
        "plt.figure(figsize=(10, 8))\r\n",
        "sns.scatterplot(x='long', y='lat', data=KC[KC['price'] < 2000000], hue='price', palette='cividis', alpha=0.15)"
      ],
      "execution_count": null,
      "outputs": []
    },
    {
      "cell_type": "code",
      "metadata": {
        "id": "Cen1laySonjD"
      },
      "source": [
        "#format the date\r\n",
        "d =[]\r\n",
        "for i in KC['date'].values:\r\n",
        "    d.append(i[:4])\r\n",
        "    \r\n",
        "KC['date'] = d\r\n",
        "\r\n",
        "# convert everything to same datatype\r\n",
        "for i in KC.columns:\r\n",
        "    KC[i]=KC[i].astype(float)\r\n",
        "    \r\n",
        "#make a new column age of the house  \r\n",
        "KC['age'] = KC['date'] - KC['yr_built']\r\n",
        "\r\n",
        "#calculate the total years of renovation\r\n",
        "KC['renov_age'] = np.abs(KC['yr_renovated'] - KC['yr_built'])\r\n",
        "KC['renov_age'] = KC.renov_age.apply(lambda x: x if len(str(int(x)))==2 else 0.0)\r\n",
        "\r\n",
        "#remove unwanted columns like yr_built, date, id\r\n",
        "KC.drop(['id','zipcode' ,'date', 'yr_built', 'yr_renovated'], axis=1, inplace=True)\r\n",
        "KC.head()"
      ],
      "execution_count": null,
      "outputs": []
    }
  ]
}